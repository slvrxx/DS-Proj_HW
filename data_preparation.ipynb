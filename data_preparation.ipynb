{
 "cells": [
     {
         "cell_type": "markdown",
         "metadata": {},
         "source": [
             "# Data Preparation"
         ]
     },
     {
         "cell_type": "markdown",
         "metadata": {},
         "source": [
             "This notebook is dedicated to the cleaning, transformation, and preparation of the wine quality dataset for modeling."
         ]
     },
     {
         "cell_type": "code",
         "metadata": {},
         "source": [
             "import pandas as pd\n",
             "# Loading the data\n",
             "data = pd.read_csv('../data/winequality-red.csv')",
             "data.head()"
         ],
         "execution_count": null,
         "outputs": []
     }
 ],
 "metadata": {
     "kernelspec": {
         "display_name": "Python 3",
         "language": "python",
         "name": "python3"
     },
     "language_info": {
         "codemirror_mode": {
             "name": "ipython",
             "version": 3
         },
         "file_extension": ".py",
         "mimetype": "text/x-python",
         "name": "python",
         "nbconvert_exporter": "python",
         "pygments_lexer": "ipython3",
         "version": "3.8.8"
     }
 },
 "nbformat": 4,
 "nbformat_minor": 5
}
