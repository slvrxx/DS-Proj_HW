{
 "cells": [
     {
         "cell_type": "markdown",
         "metadata": {},
         "source": [
             "# Model Building"
         ]
     },
     {
         "cell_type": "markdown",
         "metadata": {},
         "source": [
             "In this notebook, we will build and train models based on the prepared wine quality dataset."
         ]
     },
     {
         "cell_type": "code",
         "metadata": {},
         "source": [
             "import pandas as pd\n",
             "from sklearn.model_selection import train_test_split\n",
             "from sklearn.ensemble import RandomForestClassifier\n",
             "\n",
             "# Load the prepared data (assuming it's saved as 'prepared_data.csv' in the 'Data Preparation' directory)\n",
             "data = pd.read_csv('../Data Preparation/prepared_data.csv')",
             "X = data.drop('quality', axis=1)\n",
             "y = data['quality']\n",
             "X_train, X_test, y_train, y_test = train_test_split(X, y, test_size=0.2, random_state=42)",
             "\n",
             "# Initialize and train a basic model as an example\n",
             "model = RandomForestClassifier()\n",
             "model.fit(X_train, y_train)",
             "accuracy = model.score(X_test, y_test)",
             "print(f'Model Accuracy: {accuracy:.2f}')"
         ],
         "execution_count": null,
         "outputs": []
     }
 ],
 "metadata": {
     "kernelspec": {
         "display_name": "Python 3",
         "language": "python",
         "name": "python3"
     },
     "language_info": {
         "codemirror_mode": {
             "name": "ipython",
             "version": 3
         },
         "file_extension": ".py",
         "mimetype": "text/x-python",
         "name": "python",
         "nbconvert_exporter": "python",
         "pygments_lexer": "ipython3",
         "version": "3.8.8"
     }
 },
 "nbformat": 4,
 "nbformat_minor": 5
